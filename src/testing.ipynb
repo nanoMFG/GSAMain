{
 "cells": [
  {
   "cell_type": "code",
   "execution_count": 1,
   "metadata": {
    "collapsed": true
   },
   "outputs": [],
   "source": [
    "from __future__ import division\n",
    "import pandas as pd\n",
    "import sys, operator, os\n",
    "from PyQt5 import QtGui, QtCore\n",
    "from models import ResultsTableModel\n",
    "from GSAImage import GSAImage\n",
    "from GSAStats import TSNEWidget, PlotWidget\n",
    "from gresq.csv2db import build_db\n",
    "from gresq.database import sample, preparation_step, dal, Base\n",
    "from sqlalchemy import String, Integer, Float, Numeric\n",
    "from gresq.config import config"
   ]
  },
  {
   "cell_type": "code",
   "execution_count": 5,
   "metadata": {},
   "outputs": [],
   "source": [
    "dal.init_db(config['development'])\n",
    "Base.metadata.drop_all(bind=dal.engine)\n",
    "Base.metadata.create_all(bind=dal.engine)\n",
    "with dal.session_scope() as session:\n",
    "    build_db(session,os.path.join(os.pardir,'data'))"
   ]
  },
  {
   "cell_type": "code",
   "execution_count": 6,
   "metadata": {},
   "outputs": [],
   "source": [
    "s = sample()"
   ]
  },
  {
   "cell_type": "code",
   "execution_count": 9,
   "metadata": {},
   "outputs": [],
   "source": [
    "s.average_thickness_of_growth = 5"
   ]
  },
  {
   "cell_type": "code",
   "execution_count": 11,
   "metadata": {},
   "outputs": [],
   "source": [
    "p = preparation_step()\n",
    "p.sample_id = s.id"
   ]
  },
  {
   "cell_type": "code",
   "execution_count": 18,
   "metadata": {},
   "outputs": [
    {
     "data": {
      "text/plain": [
       "{'_sa_instance_state': <sqlalchemy.orm.state.InstanceState at 0x11704c978>,\n",
       " 'sample_id': None}"
      ]
     },
     "execution_count": 18,
     "metadata": {},
     "output_type": "execute_result"
    }
   ],
   "source": [
    "p.__dict__"
   ]
  },
  {
   "cell_type": "code",
   "execution_count": null,
   "metadata": {
    "collapsed": true
   },
   "outputs": [],
   "source": []
  }
 ],
 "metadata": {
  "kernelspec": {
   "display_name": "Python 3",
   "language": "python",
   "name": "python3"
  },
  "language_info": {
   "codemirror_mode": {
    "name": "ipython",
    "version": 3
   },
   "file_extension": ".py",
   "mimetype": "text/x-python",
   "name": "python",
   "nbconvert_exporter": "python",
   "pygments_lexer": "ipython3",
   "version": "3.5.0"
  }
 },
 "nbformat": 4,
 "nbformat_minor": 2
}
