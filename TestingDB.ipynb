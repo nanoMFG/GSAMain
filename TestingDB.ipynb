{
 "cells": [
  {
   "cell_type": "code",
   "execution_count": 2,
   "metadata": {},
   "outputs": [],
   "source": [
    "from src.grdb.database.v1_1_0 import sample, preparation_step, dal, Base, mdf_forge, properties, recipe, raman_set\n",
    "from src.gresq.config import config\n",
    "import pandas as pd"
   ]
  },
  {
   "cell_type": "code",
   "execution_count": 3,
   "metadata": {},
   "outputs": [
    {
     "ename": "AttributeError",
     "evalue": "'NoneType' object has no attribute '_instantiate_plugins'",
     "output_type": "error",
     "traceback": [
      "\u001b[0;31m---------------------------------------------------------------------------\u001b[0m",
      "\u001b[0;31mAttributeError\u001b[0m                            Traceback (most recent call last)",
      "\u001b[0;32m<ipython-input-3-d1deb24b14b9>\u001b[0m in \u001b[0;36m<module>\u001b[0;34m\u001b[0m\n\u001b[0;32m----> 1\u001b[0;31m \u001b[0mdal\u001b[0m\u001b[0;34m.\u001b[0m\u001b[0minit_db\u001b[0m\u001b[0;34m(\u001b[0m\u001b[0mconfig\u001b[0m\u001b[0;34m[\u001b[0m\u001b[0;34m'development'\u001b[0m\u001b[0;34m]\u001b[0m\u001b[0;34m)\u001b[0m\u001b[0;34m\u001b[0m\u001b[0m\n\u001b[0m",
      "\u001b[0;32m~/Dropbox/GSAMain/src/grdb.database.v1_1_0.py\u001b[0m in \u001b[0;36minit_db\u001b[0;34m(self, config)\u001b[0m\n\u001b[1;32m     29\u001b[0m         \u001b[0;31m#print(config.DATABASEARGS)\u001b[0m\u001b[0;34m\u001b[0m\u001b[0;34m\u001b[0m\u001b[0m\n\u001b[1;32m     30\u001b[0m         \u001b[0;32mif\u001b[0m \u001b[0;34m(\u001b[0m\u001b[0mconfig\u001b[0m\u001b[0;34m.\u001b[0m\u001b[0mDATABASEARGS\u001b[0m \u001b[0;34m==\u001b[0m \u001b[0;32mNone\u001b[0m\u001b[0;34m)\u001b[0m\u001b[0;34m:\u001b[0m\u001b[0;34m\u001b[0m\u001b[0m\n\u001b[0;32m---> 31\u001b[0;31m             \u001b[0mself\u001b[0m\u001b[0;34m.\u001b[0m\u001b[0mengine\u001b[0m \u001b[0;34m=\u001b[0m \u001b[0mcreate_engine\u001b[0m\u001b[0;34m(\u001b[0m\u001b[0mconfig\u001b[0m\u001b[0;34m.\u001b[0m\u001b[0mDATABASEURI\u001b[0m\u001b[0;34m)\u001b[0m\u001b[0;34m\u001b[0m\u001b[0m\n\u001b[0m\u001b[1;32m     32\u001b[0m         \u001b[0;32melse\u001b[0m\u001b[0;34m:\u001b[0m\u001b[0;34m\u001b[0m\u001b[0m\n\u001b[1;32m     33\u001b[0m             \u001b[0mself\u001b[0m\u001b[0;34m.\u001b[0m\u001b[0mengine\u001b[0m \u001b[0;34m=\u001b[0m \u001b[0mcreate_engine\u001b[0m\u001b[0;34m(\u001b[0m\u001b[0mconfig\u001b[0m\u001b[0;34m.\u001b[0m\u001b[0mDATABASEURI\u001b[0m\u001b[0;34m,\u001b[0m\u001b[0mconnect_args\u001b[0m\u001b[0;34m=\u001b[0m\u001b[0mast\u001b[0m\u001b[0;34m.\u001b[0m\u001b[0mliteral_eval\u001b[0m\u001b[0;34m(\u001b[0m\u001b[0mconfig\u001b[0m\u001b[0;34m.\u001b[0m\u001b[0mDATABASEARGS\u001b[0m\u001b[0;34m)\u001b[0m\u001b[0;34m)\u001b[0m\u001b[0;34m\u001b[0m\u001b[0m\n",
      "\u001b[0;32m~/.pyenv/versions/3.5.1/lib/python3.5/site-packages/sqlalchemy/engine/__init__.py\u001b[0m in \u001b[0;36mcreate_engine\u001b[0;34m(*args, **kwargs)\u001b[0m\n\u001b[1;32m    421\u001b[0m     \u001b[0mstrategy\u001b[0m \u001b[0;34m=\u001b[0m \u001b[0mkwargs\u001b[0m\u001b[0;34m.\u001b[0m\u001b[0mpop\u001b[0m\u001b[0;34m(\u001b[0m\u001b[0;34m\"strategy\"\u001b[0m\u001b[0;34m,\u001b[0m \u001b[0mdefault_strategy\u001b[0m\u001b[0;34m)\u001b[0m\u001b[0;34m\u001b[0m\u001b[0m\n\u001b[1;32m    422\u001b[0m     \u001b[0mstrategy\u001b[0m \u001b[0;34m=\u001b[0m \u001b[0mstrategies\u001b[0m\u001b[0;34m.\u001b[0m\u001b[0mstrategies\u001b[0m\u001b[0;34m[\u001b[0m\u001b[0mstrategy\u001b[0m\u001b[0;34m]\u001b[0m\u001b[0;34m\u001b[0m\u001b[0m\n\u001b[0;32m--> 423\u001b[0;31m     \u001b[0;32mreturn\u001b[0m \u001b[0mstrategy\u001b[0m\u001b[0;34m.\u001b[0m\u001b[0mcreate\u001b[0m\u001b[0;34m(\u001b[0m\u001b[0;34m*\u001b[0m\u001b[0margs\u001b[0m\u001b[0;34m,\u001b[0m \u001b[0;34m**\u001b[0m\u001b[0mkwargs\u001b[0m\u001b[0;34m)\u001b[0m\u001b[0;34m\u001b[0m\u001b[0m\n\u001b[0m\u001b[1;32m    424\u001b[0m \u001b[0;34m\u001b[0m\u001b[0m\n\u001b[1;32m    425\u001b[0m \u001b[0;34m\u001b[0m\u001b[0m\n",
      "\u001b[0;32m~/.pyenv/versions/3.5.1/lib/python3.5/site-packages/sqlalchemy/engine/strategies.py\u001b[0m in \u001b[0;36mcreate\u001b[0;34m(self, name_or_url, **kwargs)\u001b[0m\n\u001b[1;32m     54\u001b[0m         \u001b[0mu\u001b[0m \u001b[0;34m=\u001b[0m \u001b[0murl\u001b[0m\u001b[0;34m.\u001b[0m\u001b[0mmake_url\u001b[0m\u001b[0;34m(\u001b[0m\u001b[0mname_or_url\u001b[0m\u001b[0;34m)\u001b[0m\u001b[0;34m\u001b[0m\u001b[0m\n\u001b[1;32m     55\u001b[0m \u001b[0;34m\u001b[0m\u001b[0m\n\u001b[0;32m---> 56\u001b[0;31m         \u001b[0mplugins\u001b[0m \u001b[0;34m=\u001b[0m \u001b[0mu\u001b[0m\u001b[0;34m.\u001b[0m\u001b[0m_instantiate_plugins\u001b[0m\u001b[0;34m(\u001b[0m\u001b[0mkwargs\u001b[0m\u001b[0;34m)\u001b[0m\u001b[0;34m\u001b[0m\u001b[0m\n\u001b[0m\u001b[1;32m     57\u001b[0m \u001b[0;34m\u001b[0m\u001b[0m\n\u001b[1;32m     58\u001b[0m         \u001b[0mu\u001b[0m\u001b[0;34m.\u001b[0m\u001b[0mquery\u001b[0m\u001b[0;34m.\u001b[0m\u001b[0mpop\u001b[0m\u001b[0;34m(\u001b[0m\u001b[0;34m\"plugin\"\u001b[0m\u001b[0;34m,\u001b[0m \u001b[0;32mNone\u001b[0m\u001b[0;34m)\u001b[0m\u001b[0;34m\u001b[0m\u001b[0m\n",
      "\u001b[0;31mAttributeError\u001b[0m: 'NoneType' object has no attribute '_instantiate_plugins'"
     ]
    }
   ],
   "source": [
    "dal.init_db(config['development'])"
   ]
  },
  {
   "cell_type": "code",
   "execution_count": 3,
   "metadata": {
    "collapsed": true
   },
   "outputs": [],
   "source": [
    "Base.metadata.drop_all(bind=dal.engine)\n",
    "Base.metadata.create_all(bind=dal.engine)"
   ]
  },
  {
   "cell_type": "code",
   "execution_count": 4,
   "metadata": {
    "collapsed": true
   },
   "outputs": [],
   "source": [
    "var_map = pd.read_csv('data/varmap.csv').to_dict()\n",
    "data = pd.read_csv('data/recipestest.csv').iloc[:-1,:]"
   ]
  },
  {
   "cell_type": "code",
   "execution_count": 5,
   "metadata": {},
   "outputs": [],
   "source": [
    "col_names = data.columns\n",
    "with dal.session_scope() as session:\n",
    "    for i in range(data.shape[0]):\n",
    "        s = sample()\n",
    "        s.reference = data.iloc[i,-1]\n",
    "        for j in range(31):\n",
    "            value = data.iloc[i,j]\n",
    "            if pd.isnull(value) == False:\n",
    "                dbkey = var_map[col_names[j]][0]\n",
    "                setattr(s,dbkey,value)\n",
    "        session.add(s)\n",
    "        session.commit()\n",
    "        # Annealing\n",
    "        for step,j in enumerate(range(32,110,13)):\n",
    "            prep = preparation_step()\n",
    "            prep.name = \"Annealing\"\n",
    "            prep.sample_id = s.id\n",
    "            prep.step = step\n",
    "            for p in range(13):\n",
    "                value = data.iloc[i,j+p]\n",
    "                dbkey = var_map[col_names[j+p]][0]\n",
    "                if pd.isnull(value) == False:\n",
    "#                     print(dbkey,value)\n",
    "                    setattr(prep,dbkey,value)\n",
    "            session.add(prep)\n",
    "        # Growing\n",
    "        for step,j in enumerate(range(110,189,13)):\n",
    "            prep = preparation_step()\n",
    "            prep.name = \"Growing\"\n",
    "            prep.sample_id = s.id\n",
    "            prep.step = step\n",
    "            for p in range(13):\n",
    "                value = data.iloc[i,j+p]\n",
    "                dbkey = var_map[col_names[j+p]][0]\n",
    "                if pd.isnull(value) == False:\n",
    "#                     print(dbkey,value)\n",
    "                    setattr(prep,dbkey,value)\n",
    "            session.add(prep)\n",
    "        # Cooling\n",
    "        for step,j in enumerate(range(191,269,13)):\n",
    "            prep = preparation_step()\n",
    "            prep.name = \"Cooling\"\n",
    "            prep.cooling_rate = data.iloc[i,190]\n",
    "            prep.sample_id = s.id\n",
    "            prep.step = step\n",
    "            for p in range(13):\n",
    "                value = data.iloc[i,j+p]\n",
    "                dbkey = var_map[col_names[j+p]][0]\n",
    "                if pd.isnull(value) == False:\n",
    "#                     print(dbkey,value)\n",
    "                    setattr(prep,dbkey,value)\n",
    "            session.add(prep)\n",
    "        session.commit()"
   ]
  },
  {
   "cell_type": "code",
   "execution_count": 24,
   "metadata": {},
   "outputs": [
    {
     "name": "stdout",
     "output_type": "stream",
     "text": [
      "<grdb.database.v1_1_0.sample object at 0x1056dfa20>\n",
      "<grdb.database.v1_1_0.sample object at 0x1056dfa90>\n",
      "<grdb.database.v1_1_0.sample object at 0x1056dfb00>\n",
      "<grdb.database.v1_1_0.sample object at 0x1056dfb70>\n",
      "<grdb.database.v1_1_0.sample object at 0x1056dfbe0>\n",
      "<grdb.database.v1_1_0.sample object at 0x1056dfc50>\n",
      "<grdb.database.v1_1_0.sample object at 0x1056dfcc0>\n",
      "<grdb.database.v1_1_0.sample object at 0x1056dfd30>\n",
      "<grdb.database.v1_1_0.sample object at 0x1056dfda0>\n",
      "<grdb.database.v1_1_0.sample object at 0x1056dfe10>\n",
      "<grdb.database.v1_1_0.sample object at 0x1056dfe80>\n",
      "<grdb.database.v1_1_0.sample object at 0x1056dfef0>\n",
      "<grdb.database.v1_1_0.sample object at 0x1056dff60>\n",
      "<grdb.database.v1_1_0.sample object at 0x1056dffd0>\n",
      "<grdb.database.v1_1_0.sample object at 0x1056f3080>\n",
      "<grdb.database.v1_1_0.sample object at 0x1056f30f0>\n",
      "<grdb.database.v1_1_0.sample object at 0x1056f3160>\n",
      "<grdb.database.v1_1_0.sample object at 0x1056f31d0>\n",
      "<grdb.database.v1_1_0.sample object at 0x1056db5c0>\n",
      "<grdb.database.v1_1_0.sample object at 0x1056db668>\n",
      "<grdb.database.v1_1_0.sample object at 0x1056db6a0>\n",
      "<grdb.database.v1_1_0.sample object at 0x1056db860>\n",
      "<grdb.database.v1_1_0.sample object at 0x1056db518>\n",
      "<grdb.database.v1_1_0.sample object at 0x1056cb940>\n",
      "<grdb.database.v1_1_0.sample object at 0x1056cbf98>\n",
      "<grdb.database.v1_1_0.sample object at 0x1056cbc18>\n",
      "<grdb.database.v1_1_0.sample object at 0x1056cbeb8>\n",
      "<grdb.database.v1_1_0.sample object at 0x1056cbc88>\n",
      "<grdb.database.v1_1_0.sample object at 0x1056cbac8>\n",
      "<grdb.database.v1_1_0.sample object at 0x1056cbd68>\n",
      "<grdb.database.v1_1_0.sample object at 0x1056cbdd8>\n",
      "<grdb.database.v1_1_0.sample object at 0x1056ce3c8>\n",
      "<grdb.database.v1_1_0.sample object at 0x1056ced68>\n",
      "<grdb.database.v1_1_0.sample object at 0x1056cec88>\n",
      "<grdb.database.v1_1_0.sample object at 0x1056ce278>\n",
      "<grdb.database.v1_1_0.sample object at 0x1056ce320>\n",
      "<grdb.database.v1_1_0.sample object at 0x1056cef98>\n"
     ]
    }
   ],
   "source": [
    "with dal.session_scope() as session:\n",
    "    for q in session.query(sample).\\\n",
    "        join(preparation_step,sample.preparation_steps)\\\n",
    "        .filter(preparation_step.furnace_temperature>800):\n",
    "        print(q)"
   ]
  },
  {
   "cell_type": "code",
   "execution_count": 7,
   "metadata": {
    "collapsed": true
   },
   "outputs": [],
   "source": [
    "session.close()"
   ]
  },
  {
   "cell_type": "code",
   "execution_count": 8,
   "metadata": {},
   "outputs": [
    {
     "data": {
      "text/plain": [
       "['PREPARATION STEP DETAIL: Cooling Rate ($^\\\\circ$C/s)']"
      ]
     },
     "execution_count": 8,
     "metadata": {},
     "output_type": "execute_result"
    }
   ],
   "source": [
    "[c for c in data.columns if 'Cooling' in c]"
   ]
  },
  {
   "cell_type": "code",
   "execution_count": 9,
   "metadata": {},
   "outputs": [
    {
     "data": {
      "text/plain": [
       "'1.1.11'"
      ]
     },
     "execution_count": 9,
     "metadata": {},
     "output_type": "execute_result"
    }
   ],
   "source": [
    "import sqlalchemy\n",
    "sqlalchemy.__version__"
   ]
  },
  {
   "cell_type": "code",
   "execution_count": null,
   "metadata": {
    "collapsed": true
   },
   "outputs": [],
   "source": []
  }
 ],
 "metadata": {
  "kernelspec": {
   "display_name": "Python 3",
   "language": "python",
   "name": "python3"
  },
  "language_info": {
   "codemirror_mode": {
    "name": "ipython",
    "version": 3
   },
   "file_extension": ".py",
   "mimetype": "text/x-python",
   "name": "python",
   "nbconvert_exporter": "python",
   "pygments_lexer": "ipython3",
   "version": "3.5.1"
  }
 },
 "nbformat": 4,
 "nbformat_minor": 2
}
