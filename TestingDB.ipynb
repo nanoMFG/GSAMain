{
 "cells": [
  {
   "cell_type": "code",
   "execution_count": 1,
   "metadata": {
    "collapsed": true
   },
   "outputs": [],
   "source": [
    "from gresq.database import sample, preparation_step, dal, Base\n",
    "from gresq.config import config\n",
    "import pandas as pd"
   ]
  },
  {
   "cell_type": "code",
   "execution_count": 2,
   "metadata": {
    "collapsed": true
   },
   "outputs": [],
   "source": [
    "dal.init_db(config['development'])"
   ]
  },
  {
   "cell_type": "code",
   "execution_count": 3,
   "metadata": {
    "collapsed": true
   },
   "outputs": [],
   "source": [
    "Base.metadata.drop_all(bind=dal.engine)\n",
    "Base.metadata.create_all(bind=dal.engine)"
   ]
  },
  {
   "cell_type": "code",
   "execution_count": 4,
   "metadata": {
    "collapsed": true
   },
   "outputs": [],
   "source": [
    "var_map = pd.read_csv('data/varmap.csv').to_dict()\n",
    "data = pd.read_csv('data/recipestest.csv').iloc[:-1,:]"
   ]
  },
  {
   "cell_type": "code",
   "execution_count": 5,
   "metadata": {},
   "outputs": [],
   "source": [
    "col_names = data.columns\n",
    "with dal.session_scope() as session:\n",
    "    for i in range(data.shape[0]):\n",
    "        s = sample()\n",
    "        s.reference = data.iloc[i,-1]\n",
    "        for j in range(31):\n",
    "            value = data.iloc[i,j]\n",
    "            if pd.isnull(value) == False:\n",
    "                dbkey = var_map[col_names[j]][0]\n",
    "                setattr(s,dbkey,value)\n",
    "        session.add(s)\n",
    "        session.commit()\n",
    "        # Annealing\n",
    "        for step,j in enumerate(range(32,110,13)):\n",
    "            prep = preparation_step()\n",
    "            prep.name = \"Annealing\"\n",
    "            prep.sample_id = s.id\n",
    "            prep.step = step\n",
    "            for p in range(13):\n",
    "                value = data.iloc[i,j+p]\n",
    "                dbkey = var_map[col_names[j+p]][0]\n",
    "                if pd.isnull(value) == False:\n",
    "#                     print(dbkey,value)\n",
    "                    setattr(prep,dbkey,value)\n",
    "            session.add(prep)\n",
    "        # Growing\n",
    "        for step,j in enumerate(range(110,189,13)):\n",
    "            prep = preparation_step()\n",
    "            prep.name = \"Growing\"\n",
    "            prep.sample_id = s.id\n",
    "            prep.step = step\n",
    "            for p in range(13):\n",
    "                value = data.iloc[i,j+p]\n",
    "                dbkey = var_map[col_names[j+p]][0]\n",
    "                if pd.isnull(value) == False:\n",
    "#                     print(dbkey,value)\n",
    "                    setattr(prep,dbkey,value)\n",
    "            session.add(prep)\n",
    "        # Cooling\n",
    "        for step,j in enumerate(range(191,269,13)):\n",
    "            prep = preparation_step()\n",
    "            prep.name = \"Cooling\"\n",
    "            prep.cooling_rate = data.iloc[i,190]\n",
    "            prep.sample_id = s.id\n",
    "            prep.step = step\n",
    "            for p in range(13):\n",
    "                value = data.iloc[i,j+p]\n",
    "                dbkey = var_map[col_names[j+p]][0]\n",
    "                if pd.isnull(value) == False:\n",
    "#                     print(dbkey,value)\n",
    "                    setattr(prep,dbkey,value)\n",
    "            session.add(prep)\n",
    "        session.commit()"
   ]
  },
  {
   "cell_type": "code",
   "execution_count": 24,
   "metadata": {},
   "outputs": [
    {
     "name": "stdout",
     "output_type": "stream",
     "text": [
      "<gresq.database.sample object at 0x1056dfa20>\n",
      "<gresq.database.sample object at 0x1056dfa90>\n",
      "<gresq.database.sample object at 0x1056dfb00>\n",
      "<gresq.database.sample object at 0x1056dfb70>\n",
      "<gresq.database.sample object at 0x1056dfbe0>\n",
      "<gresq.database.sample object at 0x1056dfc50>\n",
      "<gresq.database.sample object at 0x1056dfcc0>\n",
      "<gresq.database.sample object at 0x1056dfd30>\n",
      "<gresq.database.sample object at 0x1056dfda0>\n",
      "<gresq.database.sample object at 0x1056dfe10>\n",
      "<gresq.database.sample object at 0x1056dfe80>\n",
      "<gresq.database.sample object at 0x1056dfef0>\n",
      "<gresq.database.sample object at 0x1056dff60>\n",
      "<gresq.database.sample object at 0x1056dffd0>\n",
      "<gresq.database.sample object at 0x1056f3080>\n",
      "<gresq.database.sample object at 0x1056f30f0>\n",
      "<gresq.database.sample object at 0x1056f3160>\n",
      "<gresq.database.sample object at 0x1056f31d0>\n",
      "<gresq.database.sample object at 0x1056db5c0>\n",
      "<gresq.database.sample object at 0x1056db668>\n",
      "<gresq.database.sample object at 0x1056db6a0>\n",
      "<gresq.database.sample object at 0x1056db860>\n",
      "<gresq.database.sample object at 0x1056db518>\n",
      "<gresq.database.sample object at 0x1056cb940>\n",
      "<gresq.database.sample object at 0x1056cbf98>\n",
      "<gresq.database.sample object at 0x1056cbc18>\n",
      "<gresq.database.sample object at 0x1056cbeb8>\n",
      "<gresq.database.sample object at 0x1056cbc88>\n",
      "<gresq.database.sample object at 0x1056cbac8>\n",
      "<gresq.database.sample object at 0x1056cbd68>\n",
      "<gresq.database.sample object at 0x1056cbdd8>\n",
      "<gresq.database.sample object at 0x1056ce3c8>\n",
      "<gresq.database.sample object at 0x1056ced68>\n",
      "<gresq.database.sample object at 0x1056cec88>\n",
      "<gresq.database.sample object at 0x1056ce278>\n",
      "<gresq.database.sample object at 0x1056ce320>\n",
      "<gresq.database.sample object at 0x1056cef98>\n"
     ]
    }
   ],
   "source": [
    "with dal.session_scope() as session:\n",
    "    for q in session.query(sample).\\\n",
    "        join(preparation_step,sample.preparation_steps)\\\n",
    "        .filter(preparation_step.furnace_temperature>800):\n",
    "        print(q)"
   ]
  },
  {
   "cell_type": "code",
   "execution_count": 7,
   "metadata": {
    "collapsed": true
   },
   "outputs": [],
   "source": [
    "session.close()"
   ]
  },
  {
   "cell_type": "code",
   "execution_count": 8,
   "metadata": {},
   "outputs": [
    {
     "data": {
      "text/plain": [
       "['PREPARATION STEP DETAIL: Cooling Rate ($^\\\\circ$C/s)']"
      ]
     },
     "execution_count": 8,
     "metadata": {},
     "output_type": "execute_result"
    }
   ],
   "source": [
    "[c for c in data.columns if 'Cooling' in c]"
   ]
  },
  {
   "cell_type": "code",
   "execution_count": 9,
   "metadata": {},
   "outputs": [
    {
     "data": {
      "text/plain": [
       "'1.1.11'"
      ]
     },
     "execution_count": 9,
     "metadata": {},
     "output_type": "execute_result"
    }
   ],
   "source": [
    "import sqlalchemy\n",
    "sqlalchemy.__version__"
   ]
  },
  {
   "cell_type": "code",
   "execution_count": null,
   "metadata": {
    "collapsed": true
   },
   "outputs": [],
   "source": []
  }
 ],
 "metadata": {
  "kernelspec": {
   "display_name": "Python 3",
   "language": "python",
   "name": "python3"
  },
  "language_info": {
   "codemirror_mode": {
    "name": "ipython",
    "version": 3
   },
   "file_extension": ".py",
   "mimetype": "text/x-python",
   "name": "python",
   "nbconvert_exporter": "python",
   "pygments_lexer": "ipython3",
   "version": "3.5.0"
  }
 },
 "nbformat": 4,
 "nbformat_minor": 2
}
